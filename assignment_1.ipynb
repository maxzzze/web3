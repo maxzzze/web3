{
 "cells": [
  {
   "cell_type": "markdown",
   "metadata": {
    "id": "q7OaDIYUKj8C"
   },
   "source": [
    "# Introduction\n",
    "\n"
   ]
  },
  {
   "cell_type": "markdown",
   "metadata": {
    "id": "YR45ziawgwe9"
   },
   "source": [
    "In this home assignment you are asked to complete two tasks:\n",
    "\n",
    "1. Write a **Python script** to create labels for a given set of liquidity pool addresses\n",
    "1. Write a **SQL query** to show how much fees MetaMask has earned from their swap service in a given time interval\n",
    "\n",
    "You can complete the assignment in this notebook, or you can download a copy of it and complete it offline. In either case we want you to present and take us through your solution in the next interview."
   ]
  },
  {
   "cell_type": "markdown",
   "metadata": {
    "id": "Q4FArHYYIkmc"
   },
   "source": [
    "# Setup\n",
    "\n",
    "To work in this notebook: Start by running this section step by step to set up."
   ]
  },
  {
   "cell_type": "markdown",
   "metadata": {
    "id": "gi-zOZCrDRrw"
   },
   "source": [
    "1. Install dependencies with `pip`\n",
    "1. Define constants\n",
    "1. Authenticate with your google account for BigQuery\n",
    "\n"
   ]
  },
  {
   "cell_type": "code",
   "execution_count": null,
   "metadata": {
    "id": "N5xKgd_JDXPf"
   },
   "outputs": [],
   "source": [
    "%%capture\n",
    "### (1) Install dependencies and restart runtime\n",
    "import os\n",
    "\n",
    "!pip install -q --upgrade jsonschema==3.2.0\n",
    "!pip install -q --upgrade web3==5.23.0\n",
    "\n",
    "os.kill(os.getpid(), 9)  # Hack to restart the runtime after install"
   ]
  },
  {
   "cell_type": "code",
   "execution_count": 1,
   "metadata": {
    "id": "SrCPM7y-HwHx"
   },
   "outputs": [],
   "source": [
    "### (2) Define constants\n",
    "\n",
    "# Infura free plan API key. Don't abuse this please!\n",
    "NODE_ENDPOINT = \"https://mainnet.infura.io/v3/47ae223686054ce8b960a29841c683cd\"\n",
    "\n",
    "# Addresses for Problem 1\n",
    "ADDRESSES = {\n",
    "    \"PROTOCOL_A\": [        \n",
    "      \"0x94b0a3d511b6ecdb17ebf877278ab030acb0a878\",\n",
    "      \"0x9928e4046d7c6513326ccea028cd3e7a91c7590a\",\n",
    "      \"0xb4e16d0168e52d35cacd2c6185b44281ec28c9dc\",\n",
    "    ],\n",
    "    \"PROTOCOL_B\": [\n",
    "      \"0x8ad599c3a0ff1de082011efddc58f1908eb6e6d8\",\n",
    "      \"0xcbcdf9626bc03e24f779434178a73a0b4bad62ed\",\n",
    "      \"0x7858e59e0c01ea06df3af3d20ac7b0003275d4bf\",\n",
    "    ],\n",
    "    \"PROTOCOL_C\": [ \n",
    "      \"0xceff51756c56ceffca006cd410b03ffc46dd3a58\",\n",
    "      \"0x795065dcc9f64b5614c407a6efdc400da6221fb0\",\n",
    "      \"0x397ff1542f962076d0bfe58ea045ffa2d347aca0\",\n",
    "    ],\n",
    "    \"PROTOCOL_D\": [ \n",
    "      \"0x0ef1b8a0e726fc3948e15b23993015eb1627f210\",\n",
    "      \"0x1f629794b34ffb3b29ff206be5478a52678b47ae\",\n",
    "      \"0x6a11f3e5a01d129e566d783a7b6e8862bfd66cca\",\n",
    "    ],\n",
    "    \"PROTOCOL_E\": [ \n",
    "      \"0x75116bd1ab4b0065b44e1a4ea9b4180a171406ed\",\n",
    "      \"0xbeabef3fc02667d8bd3f702ae0bb2c4edb3640cc\",\n",
    "      \"0x31631b3dd6c697e574d6b886708cd44f5ccf258f\",\n",
    "    ],\n",
    "}"
   ]
  },
  {
   "cell_type": "code",
   "execution_count": 2,
   "metadata": {
    "id": "l8FWDaX-ITGl"
   },
   "outputs": [],
   "source": [
    "### (3) Authenticate with Google Cloud Platform to run BigQuery queries\n",
    "from google.colab import auth\n",
    "auth.authenticate_user()"
   ]
  },
  {
   "cell_type": "markdown",
   "metadata": {
    "id": "7r9nH4qoF9WM"
   },
   "source": [
    "**Now collapse the Setup section and move on:** [Back to top](#scrollTo=Q4FArHYYIkmc)"
   ]
  },
  {
   "cell_type": "markdown",
   "metadata": {
    "id": "y3zLsNKX2s9o"
   },
   "source": [
    "# Task 1"
   ]
  },
  {
   "cell_type": "markdown",
   "metadata": {
    "id": "lkI6aePz2JB7"
   },
   "source": [
    "\n",
    "\n",
    "For the set of liquidity pool contract addresses in `ADDRESSES`, produce a set of descriptive text labels including information about what protocol they belong to and what tokens they contain. The liquidity pools belong to five different protocols `PROTOCOL_A`, ..., `PROTOCOL_E`, and you have to manually figure out which is which.\n",
    "\n",
    "A good format for labels is the following:\n",
    "```\n",
    "  <Protocol>: <Token Pair Symbols> Liquidity Pool\n",
    "```\n",
    "For example:\n",
    "```\n",
    "  SushiSwap: ETH-USDC Liquidity Pool\n",
    "  1inch: USDC-USDT Liquidity Pool\n",
    "```\n",
    "\n",
    "- Use code from the [Appendix](#scrollTo=_XR-NE80LRC6) to get started.\n",
    "- Use [Etherscan](https://etherscan.io/) to find information about the contracts\n",
    "- Refer to the [ABI spec](https://docs.soliditylang.org/en/v0.5.3/abi-spec.html) if necessary"
   ]
  },
  {
   "cell_type": "code",
   "execution_count": 73,
   "metadata": {
    "id": "ePqBAD5qPSv0"
   },
   "outputs": [],
   "source": [
    "\n",
    "# Your code goes here:\n",
    "\n",
    "from web3 import Web3\n",
    "\n",
    "w3 = Web3(Web3.HTTPProvider(NODE_ENDPOINT))\n",
    "\n",
    "def create_constant_abi(output_name, output_type):\n",
    "  '''\n",
    "  '''\n",
    "  return {\n",
    "    \"constant\": True,\n",
    "    \"inputs\": [],\n",
    "    \"name\": output_name,\n",
    "    \"outputs\": [\n",
    "      {\n",
    "        \"name\": output_name,\n",
    "        \"type\": output_type\n",
    "      }\n",
    "    ],\n",
    "    \"type\": \"function\"\n",
    "  }\n",
    "\n",
    "def get_token_symbol(token_address):\n",
    "  '''\n",
    "  '''\n",
    "  token_symbol_abi = [create_constant_abi(\"symbol\", \"string\")] #symbol\n",
    "  token_contract = w3.eth.contract(\n",
    "      w3.toChecksumAddress(token_address),\n",
    "      abi=token_symbol_abi\n",
    "  )\n",
    "  token_symbol = token_contract.functions.symbol().call()\n",
    "  return token_symbol\n",
    "\n",
    "\n",
    "def generate_pool_description(address):\n",
    "  '''\n",
    "  '''\n",
    "  symbol_pools = [\"1inch\", \"mooniswap\"]\n",
    "\n",
    "  pool_description = {\n",
    "      \"pool_name\": None,\n",
    "      \"pool_symbol_0\": None,\n",
    "      \"pool_symbol_1\": None\n",
    "  }\n",
    "  \n",
    "  pool_abi = [\n",
    "    #token0, token1\n",
    "    create_constant_abi(f\"token{token}\", \"address\") for token in range(0,2)\n",
    "  ]\n",
    "  pool_abi.append(create_constant_abi(\"name\", \"string\")) #name\n",
    "\n",
    "  pool_contract = w3.eth.contract(w3.toChecksumAddress(address), abi=pool_abi)\n",
    "  try:\n",
    "    pool_name = pool_contract.functions.name().call()\n",
    "    pool_description[\"pool_name\"] = pool_name.split(' ')[0] #clean name\n",
    "    # pool_description[\"pool_name\"] = pool_name\n",
    "  except Exception as e:\n",
    "    # couldn't find pool name\n",
    "    pool_name = \"\"\n",
    "  \n",
    "  if any(pool in pool_name.lower() for pool in symbol_pools):\n",
    "    pool_symbol = get_token_symbol(address)\n",
    "    token_0_symbol = pool_symbol.split('-')[-2]\n",
    "    token_1_symbol = pool_symbol.split('-')[-1]\n",
    "  \n",
    "  else:\n",
    "    token_0_address = pool_contract.functions.token0().call()\n",
    "    token_1_address = pool_contract.functions.token1().call()\n",
    "    token_0_symbol = get_token_symbol(token_0_address)\n",
    "    token_1_symbol = get_token_symbol(token_1_address)\n",
    "\n",
    "  pool_description[\"pool_symbol_0\"] = token_0_symbol\n",
    "  pool_description[\"pool_symbol_1\"] = token_1_symbol\n",
    "\n",
    "  return pool_description"
   ]
  },
  {
   "cell_type": "code",
   "execution_count": 74,
   "metadata": {
    "colab": {
     "base_uri": "https://localhost:8080/"
    },
    "id": "NcGIX36tPn4T",
    "outputId": "e19757b9-c266-4fcb-b464-0d0d3f42ff94"
   },
   "outputs": [
    {
     "name": "stdout",
     "output_type": "stream",
     "text": [
      "PROTOCOL_A\n",
      "Uniswap: FEI-WETH\n",
      "Uniswap: FEI-TRIBE\n",
      "Uniswap: USDC-WETH\n",
      "PROTOCOL_B\n",
      "Uniswap: USDC-WETH\n",
      "Uniswap: WBTC-WETH\n",
      "Uniswap: USDC-USDT\n",
      "PROTOCOL_C\n",
      "SushiSwap: WBTC-WETH\n",
      "SushiSwap: SUSHI-WETH\n",
      "SushiSwap: USDC-WETH\n",
      "PROTOCOL_D\n",
      "1inch: ETH-1INCH\n",
      "1inch: LDO-0xae7ab96520de3a18e5e111b5eaab095312d7fe84\n",
      "1inch: ETH-WBTC\n",
      "PROTOCOL_E\n",
      "Mooniswap: ETH-DAI\n",
      "Mooniswap: ETH-USDT\n",
      "Mooniswap: DAI-USDC\n"
     ]
    }
   ],
   "source": [
    "for protocol, address_list in ADDRESSES.items():\n",
    "  \n",
    "  print(protocol)\n",
    "  for address in address_list:\n",
    "    description = generate_pool_description(address)\n",
    "    if protocol == \"PROTOCOL_B\":\n",
    "      pool_name = \"Uniswap\"\n",
    "    else:\n",
    "      pool_name = description['pool_name']\n",
    "\n",
    "    print(\n",
    "        f\"{pool_name}: {description['pool_symbol_0']}-{description['pool_symbol_1']}\"\n",
    "    )"
   ]
  },
  {
   "cell_type": "markdown",
   "metadata": {
    "id": "sFjosNKcyoFi"
   },
   "source": [
    "Note on `PROTOCOL_D` \"0xae7ab96520de3a18e5e111b5eaab095312d7fe84\"\n",
    "\n",
    "Manually found that was \"stETH\": https://etherscan.io/address/0xae7ab96520de3a18e5e111b5eaab095312d7fe84"
   ]
  },
  {
   "cell_type": "markdown",
   "metadata": {
    "id": "w-2PkTejMHKD"
   },
   "source": [
    "# Task 2"
   ]
  },
  {
   "cell_type": "markdown",
   "metadata": {
    "id": "ghZK8zNK26lN"
   },
   "source": [
    "Write a SQL query that returns metrics on fees earned by MetaMask from their swap service during the month of August 2021. For this assignment, we're only interested in fees paid in ETH and WETH.\n",
    "\n",
    "Your query should return:\n",
    "- Sum of fees per day\n",
    "- Average fee per transaction per day\n",
    "- _Bonus if you have time:_ Cumulative (rolling sum) sum of fees per day\n",
    "\n",
    "You can use the following addresses:\n",
    "- [Metamask Swap Router](https://etherscan.io/address/0x881d40237659c251811cec9c364ef91dc08d300c)\n",
    "- [Metamask Swap Contract](https://etherscan.io/address/0x74de5d4fcbf63e00296fd95d33236b9794016631)\n",
    "- [Metamask Swap Fees]( https://etherscan.io/address/0x11ededebf63bef0ea2d2d071bdf88f71543ec6fb)\n",
    "\n",
    "Some tips to get started:\n",
    "- Use code from the [Appendix](#scrollTo=9GYZna3554ZE) to get started\n",
    "- Study examples of swaps involving [ETH](https://etherscan.io/tx/0x414a65d5d93c805c0de2696cce2c92cb7f9b522724b271d0a29538c4ebea6587) and [WETH](https://etherscan.io/tx/0xfa79daf2162e86c53246d04f5b0ff55ded73569d5b05d250fa0ab4d5f46a809d)\n",
    "- Query the tables in the public\n",
    "[crypto_ethereum](https://console.cloud.google.com/marketplace/product/ethereum/crypto-ethereum-blockchain) dataset\n",
    "- You will need to query `transactions`, `traces` and `token_transfers`\n",
    "\n",
    "\n",
    "The source tables are quite large, so remember to use a **date partition filter** to minimize query cost.\n",
    "\n",
    "\n"
   ]
  },
  {
   "cell_type": "code",
   "execution_count": 122,
   "metadata": {
    "id": "fLHjFCuc4GIw"
   },
   "outputs": [],
   "source": [
    "# Your code goes here:\n",
    "\n",
    "#0xC02aaA39b223FE8D0A0e5C4F27eAD9083C756Cc2 WETH\n",
    "\n",
    "%%bigquery resulting_df --project PROJECT\n",
    "\n",
    "SELECT \n",
    "  transaction_hash,\n",
    "  fee,\n",
    "  block_timestamp,\n",
    "  block_date\n",
    "FROM\n",
    "(\n",
    "SELECT\n",
    "  transaction_hash,\n",
    "  value / 1000000000000000000 as fee,\n",
    "  UNIX_SECONDS(block_timestamp) as block_timestamp,\n",
    "  DATE(block_timestamp) block_date\n",
    "FROM \n",
    "  `bigquery-public-data.crypto_ethereum.traces`\n",
    "WHERE \n",
    "  DATE(block_timestamp) >= \"2021-08-01\" AND\n",
    "  DATE(block_timestamp) <= \"2021-08-31\" AND\n",
    "  from_address = \"0x74de5d4fcbf63e00296fd95d33236b9794016631\" AND\n",
    "  to_address = \"0x11ededebf63bef0ea2d2d071bdf88f71543ec6fb\" AND\n",
    "  value > 0\n",
    ")\n",
    "UNION ALL\n",
    "(\n",
    "SELECT \n",
    "  transaction_hash,\n",
    "  CAST(value AS INT64) / 1000000000000000000 as fee,\n",
    "  UNIX_SECONDS(block_timestamp) as block_timestamp,\n",
    "  DATE(block_timestamp) block_date\n",
    "FROM \n",
    "  `bigquery-public-data.crypto_ethereum.token_transfers`\n",
    "WHERE \n",
    "  DATE(block_timestamp) >= \"2021-08-01\" AND\n",
    "  DATE(block_timestamp) <= \"2021-08-31\" AND\n",
    "  token_address = \"0xc02aaa39b223fe8d0a0e5c4f27ead9083c756cc2\" AND\n",
    "  from_address = \"0x74de5d4fcbf63e00296fd95d33236b9794016631\" AND\n",
    "  to_address = \"0x11ededebf63bef0ea2d2d071bdf88f71543ec6fb\"\n",
    ")\n",
    "ORDER BY block_date ASC"
   ]
  },
  {
   "cell_type": "code",
   "execution_count": 128,
   "metadata": {
    "id": "5lKbG7mWiQ7e"
   },
   "outputs": [],
   "source": [
    "aggregated_df = resulting_df.groupby('block_date').agg(\n",
    "  transactions_per_day=(\"transaction_hash\", \"count\"),\n",
    "  total_fee=(\"fee\", \"sum\"),\n",
    ").reset_index()\n",
    "aggregated_df[\"fees_per_transactions\"] = aggregated_df[\"total_fee\"] / aggregated_df[\"transactions_per_day\"]\n",
    "aggregated_df[\"cumulative_fees\"] = aggregated_df[\"total_fee\"].cumsum()\n"
   ]
  },
  {
   "cell_type": "code",
   "execution_count": 116,
   "metadata": {
    "colab": {
     "base_uri": "https://localhost:8080/",
     "height": 398
    },
    "id": "Du-YCYPbkGpf",
    "outputId": "f44a091f-4bad-418e-c7ee-4ca68cde6362"
   },
   "outputs": [
    {
     "data": {
      "text/plain": [
       "<matplotlib.axes._subplots.AxesSubplot at 0x7fd7d5ef28d0>"
      ]
     },
     "execution_count": 116,
     "metadata": {},
     "output_type": "execute_result"
    },
    {
     "data": {
      "image/png": "[encoded data removed]",
      "text/plain": [
       "<Figure size 864x432 with 1 Axes>"
      ]
     },
     "metadata": {
      "needs_background": "light"
     },
     "output_type": "display_data"
    }
   ],
   "source": [
    "aggregated_df.plot(\n",
    "    y='total_fee',\n",
    "    kind='bar',\n",
    "    figsize=(12,6)\n",
    ")"
   ]
  },
  {
   "cell_type": "code",
   "execution_count": 115,
   "metadata": {
    "colab": {
     "base_uri": "https://localhost:8080/",
     "height": 395
    },
    "id": "ExuQQQBcj39a",
    "outputId": "522315cd-4021-4d09-f5b7-ea7295672099"
   },
   "outputs": [
    {
     "data": {
      "text/plain": [
       "<matplotlib.axes._subplots.AxesSubplot at 0x7fd7db8b8f50>"
      ]
     },
     "execution_count": 115,
     "metadata": {},
     "output_type": "execute_result"
    },
    {
     "data": {
      "image/png": "[encoded data removed]",
      "text/plain": [
       "<Figure size 864x432 with 1 Axes>"
      ]
     },
     "metadata": {
      "needs_background": "light"
     },
     "output_type": "display_data"
    }
   ],
   "source": [
    "aggregated_df.plot(\n",
    "    y='fees_per_transactions',\n",
    "    kind='bar',\n",
    "    figsize=(12,6)\n",
    ")"
   ]
  },
  {
   "cell_type": "code",
   "execution_count": 129,
   "metadata": {
    "colab": {
     "base_uri": "https://localhost:8080/",
     "height": 395
    },
    "id": "3ks2AnMBlWZ1",
    "outputId": "32bd00e0-0188-45e5-ec02-5bd306a7cc21"
   },
   "outputs": [
    {
     "data": {
      "text/plain": [
       "<matplotlib.axes._subplots.AxesSubplot at 0x7fd7d9120390>"
      ]
     },
     "execution_count": 129,
     "metadata": {},
     "output_type": "execute_result"
    },
    {
     "data": {
      "image/png": "[encoded data removed]",
      "text/plain": [
       "<Figure size 864x432 with 1 Axes>"
      ]
     },
     "metadata": {
      "needs_background": "light"
     },
     "output_type": "display_data"
    }
   ],
   "source": [
    "aggregated_df.plot(\n",
    "    y='cumulative_fees',\n",
    "    kind='bar',\n",
    "    figsize=(12,6)\n",
    ")"
   ]
  },
  {
   "cell_type": "code",
   "execution_count": 110,
   "metadata": {
    "id": "p8bLzzE7jyBX"
   },
   "outputs": [],
   "source": [
    "average_fee_per_transaction_pandas = resulting_df.groupby(['transaction_hash', 'block_date'])['fee'].mean().reset_index(name='avg_fee_per_transaction_per_day')"
   ]
  },
  {
   "cell_type": "code",
   "execution_count": 111,
   "metadata": {
    "colab": {
     "base_uri": "https://localhost:8080/",
     "height": 206
    },
    "id": "WWYymCWfjx01",
    "outputId": "9b550f80-7029-47f3-b8da-89f5cbcf582f"
   },
   "outputs": [
    {
     "data": {
      "text/html": [
       "<div>\n",
       "<style scoped>\n",
       "    .dataframe tbody tr th:only-of-type {\n",
       "        vertical-align: middle;\n",
       "    }\n",
       "\n",
       "    .dataframe tbody tr th {\n",
       "        vertical-align: top;\n",
       "    }\n",
       "\n",
       "    .dataframe thead th {\n",
       "        text-align: right;\n",
       "    }\n",
       "</style>\n",
       "<table border=\"1\" class=\"dataframe\">\n",
       "  <thead>\n",
       "    <tr style=\"text-align: right;\">\n",
       "      <th></th>\n",
       "      <th>transaction_hash</th>\n",
       "      <th>block_date</th>\n",
       "      <th>avg_fee_per_transaction_per_day</th>\n",
       "    </tr>\n",
       "  </thead>\n",
       "  <tbody>\n",
       "    <tr>\n",
       "      <th>0</th>\n",
       "      <td>0x00000fb91213bb2b1d9e7e0b026bc8e0c685ab4ffebe...</td>\n",
       "      <td>2021-08-18</td>\n",
       "      <td>0.000234</td>\n",
       "    </tr>\n",
       "    <tr>\n",
       "      <th>1</th>\n",
       "      <td>0x0000213657e1cedd18b5f870a768cf9506cb4da96cd2...</td>\n",
       "      <td>2021-08-10</td>\n",
       "      <td>0.000210</td>\n",
       "    </tr>\n",
       "    <tr>\n",
       "      <th>2</th>\n",
       "      <td>0x000026eb89aadd0ca4e42aa2b99c974c425696205ddd...</td>\n",
       "      <td>2021-08-01</td>\n",
       "      <td>0.000667</td>\n",
       "    </tr>\n",
       "    <tr>\n",
       "      <th>3</th>\n",
       "      <td>0x00004922a26a83cfca110c81bd89d3c30c75c2b6644a...</td>\n",
       "      <td>2021-08-22</td>\n",
       "      <td>0.002188</td>\n",
       "    </tr>\n",
       "    <tr>\n",
       "      <th>4</th>\n",
       "      <td>0x00007a8cf872a692b0ece86c5094317d55d9655929ce...</td>\n",
       "      <td>2021-08-31</td>\n",
       "      <td>0.000612</td>\n",
       "    </tr>\n",
       "  </tbody>\n",
       "</table>\n",
       "</div>"
      ],
      "text/plain": [
       "                                    transaction_hash  ... avg_fee_per_transaction_per_day\n",
       "0  0x00000fb91213bb2b1d9e7e0b026bc8e0c685ab4ffebe...  ...                        0.000234\n",
       "1  0x0000213657e1cedd18b5f870a768cf9506cb4da96cd2...  ...                        0.000210\n",
       "2  0x000026eb89aadd0ca4e42aa2b99c974c425696205ddd...  ...                        0.000667\n",
       "3  0x00004922a26a83cfca110c81bd89d3c30c75c2b6644a...  ...                        0.002188\n",
       "4  0x00007a8cf872a692b0ece86c5094317d55d9655929ce...  ...                        0.000612\n",
       "\n",
       "[5 rows x 3 columns]"
      ]
     },
     "execution_count": 111,
     "metadata": {},
     "output_type": "execute_result"
    }
   ],
   "source": [
    "average_fee_per_transaction_pandas.head()"
   ]
  },
  {
   "cell_type": "code",
   "execution_count": 131,
   "metadata": {
    "id": "rD6XkbjfhFVM"
   },
   "outputs": [],
   "source": [
    "%%bigquery fees_per_day_bq --project PROJECT\n",
    "\n",
    "SELECT\n",
    "  SUM(fee) total_fee,\n",
    "  block_date\n",
    "FROM (\n",
    "  SELECT\n",
    "    transaction_hash,\n",
    "    fee,\n",
    "    block_timestamp,\n",
    "    block_date\n",
    "  FROM (\n",
    "    SELECT\n",
    "      transaction_hash,\n",
    "      value / 1000000000000000000 AS fee,\n",
    "      UNIX_SECONDS(block_timestamp) AS block_timestamp,\n",
    "      DATE(block_timestamp) block_date\n",
    "    FROM\n",
    "      `bigquery-public-data.crypto_ethereum.traces`\n",
    "    WHERE\n",
    "      DATE(block_timestamp) >= \"2021-08-01\"\n",
    "      AND DATE(block_timestamp) <= \"2021-08-31\"\n",
    "      AND from_address = \"0x74de5d4fcbf63e00296fd95d33236b9794016631\"\n",
    "      AND to_address = \"0x11ededebf63bef0ea2d2d071bdf88f71543ec6fb\"\n",
    "      AND value > 0 )\n",
    "  UNION ALL (\n",
    "    SELECT\n",
    "      transaction_hash,\n",
    "      CAST(value AS INT64) / 1000000000000000000 AS fee,\n",
    "      UNIX_SECONDS(block_timestamp) AS block_timestamp,\n",
    "      DATE(block_timestamp) block_date\n",
    "    FROM\n",
    "      `bigquery-public-data.crypto_ethereum.token_transfers`\n",
    "    WHERE\n",
    "      DATE(block_timestamp) >= \"2021-08-01\"\n",
    "      AND DATE(block_timestamp) <= \"2021-08-31\"\n",
    "      AND token_address = \"0xc02aaa39b223fe8d0a0e5c4f27ead9083c756cc2\"\n",
    "      AND from_address = \"0x74de5d4fcbf63e00296fd95d33236b9794016631\"\n",
    "      AND to_address = \"0x11ededebf63bef0ea2d2d071bdf88f71543ec6fb\" ) )\n",
    "GROUP BY\n",
    "  block_date"
   ]
  },
  {
   "cell_type": "code",
   "execution_count": 136,
   "metadata": {
    "colab": {
     "base_uri": "https://localhost:8080/",
     "height": 398
    },
    "id": "nC_BV4JekNLq",
    "outputId": "b36e7289-a133-42cc-c80e-261044749b6e"
   },
   "outputs": [
    {
     "data": {
      "text/plain": [
       "<matplotlib.axes._subplots.AxesSubplot at 0x7fd7caaa1790>"
      ]
     },
     "execution_count": 136,
     "metadata": {},
     "output_type": "execute_result"
    },
    {
     "data": {
      "image/png": "[encoded data removed]",
      "text/plain": [
       "<Figure size 864x432 with 1 Axes>"
      ]
     },
     "metadata": {
      "needs_background": "light"
     },
     "output_type": "display_data"
    }
   ],
   "source": [
    "fees_per_day_bq.plot(\n",
    "    y='total_fee',\n",
    "    kind='bar',\n",
    "    figsize=(12,6)\n",
    ")"
   ]
  },
  {
   "cell_type": "code",
   "execution_count": 137,
   "metadata": {
    "id": "XeZlTDyhhFL6"
   },
   "outputs": [],
   "source": [
    "%%bigquery average_fee_per_transaction_bq --project PROJECT\n",
    "\n",
    "SELECT\n",
    "  AVG(fee) total_fee,\n",
    "  transaction_hash,\n",
    "  block_date\n",
    "FROM (\n",
    "  SELECT\n",
    "    transaction_hash,\n",
    "    fee,\n",
    "    block_timestamp,\n",
    "    block_date\n",
    "  FROM (\n",
    "    SELECT\n",
    "      transaction_hash,\n",
    "      value / 1000000000000000000 AS fee,\n",
    "      UNIX_SECONDS(block_timestamp) AS block_timestamp,\n",
    "      DATE(block_timestamp) block_date\n",
    "    FROM\n",
    "      `bigquery-public-data.crypto_ethereum.traces`\n",
    "    WHERE\n",
    "      DATE(block_timestamp) >= \"2021-08-01\"\n",
    "      AND DATE(block_timestamp) <= \"2021-08-31\"\n",
    "      AND from_address = \"0x74de5d4fcbf63e00296fd95d33236b9794016631\"\n",
    "      AND to_address = \"0x11ededebf63bef0ea2d2d071bdf88f71543ec6fb\"\n",
    "      AND value > 0 )\n",
    "  UNION ALL (\n",
    "    SELECT\n",
    "      transaction_hash,\n",
    "      CAST(value AS INT64) / 1000000000000000000 AS fee,\n",
    "      UNIX_SECONDS(block_timestamp) AS block_timestamp,\n",
    "      DATE(block_timestamp) block_date\n",
    "    FROM\n",
    "      `bigquery-public-data.crypto_ethereum.token_transfers`\n",
    "    WHERE\n",
    "      DATE(block_timestamp) >= \"2021-08-01\"\n",
    "      AND DATE(block_timestamp) <= \"2021-08-31\"\n",
    "      AND token_address = \"0xc02aaa39b223fe8d0a0e5c4f27ead9083c756cc2\"\n",
    "      AND from_address = \"0x74de5d4fcbf63e00296fd95d33236b9794016631\"\n",
    "      AND to_address = \"0x11ededebf63bef0ea2d2d071bdf88f71543ec6fb\" ) )\n",
    "GROUP BY\n",
    "  transaction_hash, block_date"
   ]
  },
  {
   "cell_type": "code",
   "execution_count": 138,
   "metadata": {
    "colab": {
     "base_uri": "https://localhost:8080/",
     "height": 206
    },
    "id": "IDdjl4rLmrFm",
    "outputId": "bfd7e150-a6f2-43b3-d5c9-21ebc1c8b464"
   },
   "outputs": [
    {
     "data": {
      "text/html": [
       "<div>\n",
       "<style scoped>\n",
       "    .dataframe tbody tr th:only-of-type {\n",
       "        vertical-align: middle;\n",
       "    }\n",
       "\n",
       "    .dataframe tbody tr th {\n",
       "        vertical-align: top;\n",
       "    }\n",
       "\n",
       "    .dataframe thead th {\n",
       "        text-align: right;\n",
       "    }\n",
       "</style>\n",
       "<table border=\"1\" class=\"dataframe\">\n",
       "  <thead>\n",
       "    <tr style=\"text-align: right;\">\n",
       "      <th></th>\n",
       "      <th>total_fee</th>\n",
       "      <th>transaction_hash</th>\n",
       "      <th>block_date</th>\n",
       "    </tr>\n",
       "  </thead>\n",
       "  <tbody>\n",
       "    <tr>\n",
       "      <th>0</th>\n",
       "      <td>0.000415</td>\n",
       "      <td>0xec445c23c139ded99c1d38414785d8efb8db8360da4e...</td>\n",
       "      <td>2021-08-16</td>\n",
       "    </tr>\n",
       "    <tr>\n",
       "      <th>1</th>\n",
       "      <td>0.000526</td>\n",
       "      <td>0x53d9426eeecda199fb755c0dc26e527c63d0486ac418...</td>\n",
       "      <td>2021-08-16</td>\n",
       "    </tr>\n",
       "    <tr>\n",
       "      <th>2</th>\n",
       "      <td>0.006182</td>\n",
       "      <td>0xf738039d71896804958d955426ffb6f0304ddb665317...</td>\n",
       "      <td>2021-08-29</td>\n",
       "    </tr>\n",
       "    <tr>\n",
       "      <th>3</th>\n",
       "      <td>0.000438</td>\n",
       "      <td>0xe7b76d793ac1d106ae8377e5444acdf99064c3d422d4...</td>\n",
       "      <td>2021-08-29</td>\n",
       "    </tr>\n",
       "    <tr>\n",
       "      <th>4</th>\n",
       "      <td>0.000139</td>\n",
       "      <td>0x8b373708183eeb44a814a4501c15c6045d498daf9fb5...</td>\n",
       "      <td>2021-08-29</td>\n",
       "    </tr>\n",
       "  </tbody>\n",
       "</table>\n",
       "</div>"
      ],
      "text/plain": [
       "   total_fee                                   transaction_hash  block_date\n",
       "0   0.000415  0xec445c23c139ded99c1d38414785d8efb8db8360da4e...  2021-08-16\n",
       "1   0.000526  0x53d9426eeecda199fb755c0dc26e527c63d0486ac418...  2021-08-16\n",
       "2   0.006182  0xf738039d71896804958d955426ffb6f0304ddb665317...  2021-08-29\n",
       "3   0.000438  0xe7b76d793ac1d106ae8377e5444acdf99064c3d422d4...  2021-08-29\n",
       "4   0.000139  0x8b373708183eeb44a814a4501c15c6045d498daf9fb5...  2021-08-29"
      ]
     },
     "execution_count": 138,
     "metadata": {},
     "output_type": "execute_result"
    }
   ],
   "source": [
    "average_fee_per_transaction_bq.head()"
   ]
  },
  {
   "cell_type": "code",
   "execution_count": 139,
   "metadata": {
    "id": "ltqfJhg8h9aX"
   },
   "outputs": [],
   "source": [
    "%%bigquery total_fees_over_total_transactions_per_day_bq --project PROJECT\n",
    "\n",
    "SELECT\n",
    "  SUM(fee) / COUNT(DISTINCT transaction_hash) fees_per_transactions,\n",
    "  block_date\n",
    "FROM (\n",
    "  SELECT\n",
    "    transaction_hash,\n",
    "    fee,\n",
    "    block_timestamp,\n",
    "    block_date\n",
    "  FROM (\n",
    "    SELECT\n",
    "      transaction_hash,\n",
    "      value / 1000000000000000000 AS fee,\n",
    "      UNIX_SECONDS(block_timestamp) AS block_timestamp,\n",
    "      DATE(block_timestamp) block_date\n",
    "    FROM\n",
    "      `bigquery-public-data.crypto_ethereum.traces`\n",
    "    WHERE\n",
    "      DATE(block_timestamp) >= \"2021-08-01\"\n",
    "      AND DATE(block_timestamp) <= \"2021-08-31\"\n",
    "      AND from_address = \"0x74de5d4fcbf63e00296fd95d33236b9794016631\"\n",
    "      AND to_address = \"0x11ededebf63bef0ea2d2d071bdf88f71543ec6fb\"\n",
    "      AND value > 0 )\n",
    "  UNION ALL (\n",
    "    SELECT\n",
    "      transaction_hash,\n",
    "      CAST(value AS INT64) / 1000000000000000000 AS fee,\n",
    "      UNIX_SECONDS(block_timestamp) AS block_timestamp,\n",
    "      DATE(block_timestamp) block_date\n",
    "    FROM\n",
    "      `bigquery-public-data.crypto_ethereum.token_transfers`\n",
    "    WHERE\n",
    "      DATE(block_timestamp) >= \"2021-08-01\"\n",
    "      AND DATE(block_timestamp) <= \"2021-08-31\"\n",
    "      AND token_address = \"0xc02aaa39b223fe8d0a0e5c4f27ead9083c756cc2\"\n",
    "      AND from_address = \"0x74de5d4fcbf63e00296fd95d33236b9794016631\"\n",
    "      AND to_address = \"0x11ededebf63bef0ea2d2d071bdf88f71543ec6fb\" ) )\n",
    "GROUP BY\n",
    "  block_date"
   ]
  },
  {
   "cell_type": "code",
   "execution_count": 140,
   "metadata": {
    "colab": {
     "base_uri": "https://localhost:8080/",
     "height": 395
    },
    "id": "dcQfeF1hmu9Y",
    "outputId": "1798e724-cf0e-4e5d-ec09-6b27a3b359bf"
   },
   "outputs": [
    {
     "data": {
      "text/plain": [
       "<matplotlib.axes._subplots.AxesSubplot at 0x7fd7e7de7190>"
      ]
     },
     "execution_count": 140,
     "metadata": {},
     "output_type": "execute_result"
    },
    {
     "data": {
      "image/png": "[encoded data removed]",
      "text/plain": [
       "<Figure size 864x432 with 1 Axes>"
      ]
     },
     "metadata": {
      "needs_background": "light"
     },
     "output_type": "display_data"
    }
   ],
   "source": [
    "total_fees_over_total_transactions_per_day_bq.plot(\n",
    "    y='fees_per_transactions',\n",
    "    kind='bar',\n",
    "    figsize=(12,6)\n",
    ")"
   ]
  },
  {
   "cell_type": "code",
   "execution_count": 142,
   "metadata": {
    "id": "FaK98eQNmzk8"
   },
   "outputs": [],
   "source": [
    "%%bigquery cumulative_sum_fees_per_day_bq --project PROJECT\n",
    "\n",
    "SELECT\n",
    "  SUM(total_fee) OVER (ORDER BY block_date ASC) as cumulative_fees,\n",
    "  block_date\n",
    "FROM (\n",
    "  SELECT\n",
    "    SUM(fee) total_fee,\n",
    "    block_date\n",
    "  FROM (\n",
    "    SELECT\n",
    "      transaction_hash,\n",
    "      fee,\n",
    "      block_timestamp,\n",
    "      block_date\n",
    "    FROM (\n",
    "      SELECT\n",
    "        transaction_hash,\n",
    "        value / 1000000000000000000 AS fee,\n",
    "        UNIX_SECONDS(block_timestamp) AS block_timestamp,\n",
    "        DATE(block_timestamp) block_date\n",
    "      FROM\n",
    "        `bigquery-public-data.crypto_ethereum.traces`\n",
    "      WHERE\n",
    "        DATE(block_timestamp) >= \"2021-08-01\"\n",
    "        AND DATE(block_timestamp) <= \"2021-08-31\"\n",
    "        AND from_address = \"0x74de5d4fcbf63e00296fd95d33236b9794016631\"\n",
    "        AND to_address = \"0x11ededebf63bef0ea2d2d071bdf88f71543ec6fb\"\n",
    "        AND value > 0 )\n",
    "    UNION ALL (\n",
    "      SELECT\n",
    "        transaction_hash,\n",
    "        CAST(value AS INT64) / 1000000000000000000 AS fee,\n",
    "        UNIX_SECONDS(block_timestamp) AS block_timestamp,\n",
    "        DATE(block_timestamp) block_date\n",
    "      FROM\n",
    "        `bigquery-public-data.crypto_ethereum.token_transfers`\n",
    "      WHERE\n",
    "        DATE(block_timestamp) >= \"2021-08-01\"\n",
    "        AND DATE(block_timestamp) <= \"2021-08-31\"\n",
    "        AND token_address = \"0xc02aaa39b223fe8d0a0e5c4f27ead9083c756cc2\"\n",
    "        AND from_address = \"0x74de5d4fcbf63e00296fd95d33236b9794016631\"\n",
    "        AND to_address = \"0x11ededebf63bef0ea2d2d071bdf88f71543ec6fb\" ) )\n",
    "  GROUP BY\n",
    "    block_date )"
   ]
  },
  {
   "cell_type": "code",
   "execution_count": 143,
   "metadata": {
    "colab": {
     "base_uri": "https://localhost:8080/",
     "height": 395
    },
    "id": "vVYDXkSYmzZ_",
    "outputId": "c6905b1e-6404-4eab-9cc5-2b8a1e1fb914"
   },
   "outputs": [
    {
     "data": {
      "text/plain": [
       "<matplotlib.axes._subplots.AxesSubplot at 0x7fd7c8717650>"
      ]
     },
     "execution_count": 143,
     "metadata": {},
     "output_type": "execute_result"
    },
    {
     "data": {
      "image/png": "[encoded data removed]",
      "text/plain": [
       "<Figure size 864x432 with 1 Axes>"
      ]
     },
     "metadata": {
      "needs_background": "light"
     },
     "output_type": "display_data"
    }
   ],
   "source": [
    "cumulative_sum_fees_per_day_bq.plot(\n",
    "    y='cumulative_fees',\n",
    "    kind='bar',\n",
    "    figsize=(12,6)\n",
    ")"
   ]
  }
 ],
 "metadata": {
  "colab": {
   "collapsed_sections": [],
   "name": "Max Aliapoulios - Research Engineer - Home Assignment",
   "provenance": []
  },
  "kernelspec": {
   "display_name": "Python 3",
   "language": "python",
   "name": "python3"
  },
  "language_info": {
   "codemirror_mode": {
    "name": "ipython",
    "version": 3
   },
   "file_extension": ".py",
   "mimetype": "text/x-python",
   "name": "python",
   "nbconvert_exporter": "python",
   "pygments_lexer": "ipython3",
   "version": "3.8.8"
  }
 },
 "nbformat": 4,
 "nbformat_minor": 4
}
